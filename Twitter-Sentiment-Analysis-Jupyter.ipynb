{
 "cells": [
  {
   "cell_type": "markdown",
   "metadata": {},
   "source": [
    "# About\n",
    "\n",
    "---\n",
    "\n",
    "Twitter Sentiment Analysis project using Python, NLTK, Twitter API interface and Nick Sander's tweets corpus to evaluate the sentiment of Netflix users about it's platform services.\n",
    "\n",
    "Developed by Jaques D'Erasmo S. Fernando as part of his final project on his cerification course through **University of California - San Diego at Edx Platform** in ***Python for Data Science***.\n",
    "\n",
    "\n",
    "\n",
    "Contact --> jaques.ufba@gmail.com\n",
    "\n",
    "Portfolio --> https://github.com/Jaquesd/Portifolio\n",
    "\n",
    "Verified Certificate link --> https://courses.edx.org/certificates/2a8732fa24024af5be308fe4ee77d8a2\n",
    "\n",
    "---"
   ]
  },
  {
   "cell_type": "markdown",
   "metadata": {},
   "source": [
    "**Acknowledgment**\n",
    "\n",
    "Thank you ***Felipe Solares*** (https://github.com/fsolares) and ***Eduardo Passos*** (https://github.com/eduardosteps), old friends and also Data Science students (12/19/2019) for your immeasurable contribution on this project, all your feedback, code sujection and support during my path gave me the strength to overcome this challenge. Congratualation for us, that was an ammazing and real team work."
   ]
  },
  {
   "cell_type": "markdown",
   "metadata": {},
   "source": [
    "# Sentiment Analysis using Python,  Twitter API and NLTK Naive Bayes Classifier"
   ]
  },
  {
   "cell_type": "markdown",
   "metadata": {},
   "source": [
    "**Project purpose**\n",
    "\n",
    "Perform a sentiment analysis using NLTK Naive Bayes Classifer to identify the sentiment from tweets users related with Netflix services (or any other high tech company as Apple, Microsoft, Google, for example).\n",
    "\n"
   ]
  },
  {
   "cell_type": "markdown",
   "metadata": {},
   "source": [
    "## Step 1 - Importing libraries\n",
    "---"
   ]
  },
  {
   "cell_type": "markdown",
   "metadata": {},
   "source": [
    "README!\n",
    "\n",
    "It is recommended that you install the most recent version of Anaconda distribution.\n",
    "\n",
    "Additionally, few other packaged will need to be installed separately in case you do not have those installed. Bellow you can find each package and the installation command that can be executed from jupyter notebook cell except for the worldcloud package that need to be executed from the Anaconda Terminal (Windows) or the Terminal (Linux or MAC)\n",
    "\n",
    "* tweepy - ***!pip install tweepy***\n",
    "* textblob - ***!pip install textblob***\n",
    "* worldcloud - ***conda install -c https://conda.anaconda.org/conda-forge wordcloud***"
   ]
  },
  {
   "cell_type": "code",
   "execution_count": null,
   "metadata": {},
   "outputs": [],
   "source": [
    "#!pip install tweepy"
   ]
  },
  {
   "cell_type": "code",
   "execution_count": null,
   "metadata": {},
   "outputs": [],
   "source": [
    "#!pip install textblob"
   ]
  },
  {
   "cell_type": "code",
   "execution_count": 1,
   "metadata": {},
   "outputs": [
    {
     "name": "stderr",
     "output_type": "stream",
     "text": [
      "[nltk_data] Downloading package movie_reviews to\n",
      "[nltk_data]     /home/jaques/nltk_data...\n",
      "[nltk_data]   Package movie_reviews is already up-to-date!\n",
      "[nltk_data] Downloading package punkt to /home/jaques/nltk_data...\n",
      "[nltk_data]   Package punkt is already up-to-date!\n",
      "[nltk_data] Downloading package stopwords to /home/jaques/nltk_data...\n",
      "[nltk_data]   Package stopwords is already up-to-date!\n"
     ]
    }
   ],
   "source": [
    "#General Libraries\n",
    "\n",
    "import pickle\n",
    "import os\n",
    "import tweepy #tweepy is a libraries that work similar as 'twitter' used during the course. I decided \n",
    "              #to use thatsince I previuosly new about that and I feel more confortble. It is important\n",
    "              #to mention that the principles behind both libriries are the same\n",
    "              \n",
    "        \n",
    "import pandas as pd\n",
    "import nltk\n",
    "from textblob import TextBlob #it is necessary install the textblob library if you don't have it yet! \n",
    "                              #This is a veryuseful library that will be used during this work in two ways, \n",
    "                              #as a translator for tweets in different languages and in a simplefied \n",
    "                              #sentiment analysis that will be aslo presented\n",
    "            \n",
    "            \n",
    "\n",
    "# if you don't have the wordcloud library instaled, one option, if using Anaconda, you can install this \n",
    "# package with the command bellow (type exactly as it is bellow on your Anaconda Prompt):\n",
    "# conda install -c conda-forge wordcloud\n",
    "\n",
    "\n",
    "# Visualization Libraries\n",
    "\n",
    "from operator import itemgetter\n",
    "from wordcloud import WordCloud\n",
    "import matplotlib.pyplot as plt\n",
    "%matplotlib inline\n",
    "\n",
    "\n",
    "# Preprocess Libraries\n",
    "\n",
    "import re #module used to work with regular expressions\n",
    "from nltk.tokenize import word_tokenize\n",
    "from string import punctuation\n",
    "from nltk.corpus import stopwords\n",
    "\n",
    "nltk.download('movie_reviews')\n",
    "nltk.download(\"punkt\")\n",
    "nltk.download(\"stopwords\")\n",
    "\n",
    "# Image visualization\n",
    "\n",
    "from IPython.display import Image\n"
   ]
  },
  {
   "cell_type": "markdown",
   "metadata": {},
   "source": [
    "## Step 2 - Saving my credentials and creating the OAuth object to access tweets on Twitter\n",
    "---"
   ]
  },
  {
   "cell_type": "code",
   "execution_count": 2,
   "metadata": {},
   "outputs": [],
   "source": [
    "# This strucre will save your credentials at the first time you exetute it, after that, erase your\n",
    "# credentials to avoind anyone else to use that\n",
    "if not os.path.exists('secret_twitter_credentials.pkl'):\n",
    "    Twitter={}\n",
    "    Twitter['Consumer Key'] = '<type your credential>'\n",
    "    Twitter['Consumer Secret'] = '<type your credential>'\n",
    "    Twitter['Access Token'] = '<type your credential>'\n",
    "    Twitter['Access Token Secret'] = '<type your credential>'\n",
    "    with open('secret_twitter_credentials.pkl','wb') as f:\n",
    "        pickle.dump(Twitter, f)\n",
    "else:\n",
    "    Twitter=pickle.load(open('secret_twitter_credentials.pkl','rb'))"
   ]
  },
  {
   "cell_type": "code",
   "execution_count": 3,
   "metadata": {},
   "outputs": [],
   "source": [
    "# Authenticating and creating an API object\n",
    "\n",
    "auth = tweepy.OAuthHandler(Twitter['Consumer Key'], Twitter['Consumer Secret'])\n",
    "auth.set_access_token(Twitter['Access Token'], Twitter['Access Token Secret'])\n",
    "api = tweepy.API(auth, wait_on_rate_limit=True,wait_on_rate_limit_notify=True)"
   ]
  },
  {
   "cell_type": "markdown",
   "metadata": {},
   "source": [
    "## Step 3 - Getting tweets as test data\n",
    "---"
   ]
  },
  {
   "cell_type": "code",
   "execution_count": 4,
   "metadata": {},
   "outputs": [],
   "source": [
    "# Function that will access the Tweet and get tweets based on a search term, number of tweets, inicial \n",
    "# date and final date. This function will return a list of dictionaries where the key is the tweet text \n",
    "# and the values is a label, in this casa we are considering 'None' in the labor. This format is necessary\n",
    "# for futures aplication\n",
    "\n",
    "def get_tweets(word='google',number=100, since='2019-11-01', until='2019-11-28'):\n",
    "\n",
    "    search_term = str(input('Hi! What are you looking for today? - '))\n",
    "    num_of_terms = int(input('How many tweets do you want? - '))\n",
    "    since = input('From which date? ex.: 2019-11-01 - ')\n",
    "    until = input('Until which date? ex.: 2019-11-28 - ')\n",
    "\n",
    "    data = []\n",
    "\n",
    "    tweets = tweepy.Cursor(api.search,\n",
    "                                #since = f'{since},\n",
    "                                #until = f'{until},\n",
    "                                q=search_term,\n",
    "                                lang='en').items(num_of_terms)                                \n",
    "                                \n",
    "    for tweet in tweets:\n",
    "        try:\n",
    "            data.append(tweet.extended_tweet.full_text)\n",
    "        except:\n",
    "            data.append(tweet.text)\n",
    "\n",
    "    \n",
    "    new_data = set(data) #converting in a set to remove the duplicates\n",
    "\n",
    "    new_data_dic = []\n",
    "\n",
    "    for i in new_data:\n",
    "        new_data_dic.append({'text':i, 'label':None}) #this strucure as a dictionary is necessary for  \n",
    "                                                      #further purposes\n",
    "\n",
    "    print()\n",
    "\n",
    "    #Will print a message to the user \n",
    "    print('Great Job! We got '+str(len(data))+' tweets with the term '+word+'!!')\n",
    "\n",
    "\n",
    "    return [i for i in new_data_dic]"
   ]
  },
  {
   "cell_type": "code",
   "execution_count": 6,
   "metadata": {},
   "outputs": [
    {
     "name": "stdout",
     "output_type": "stream",
     "text": [
      "Hi! What are you looking for today? - Netflix\n",
      "How many tweets do you want? - 2000\n",
      "From which date? ex.: 2019-11-01 - 2019-12-18\n",
      "Until which date? ex.: 2019-11-28 - 2019-12-19\n",
      "\n",
      "Great Job! We got 2000 tweets with the term google!!\n"
     ]
    },
    {
     "data": {
      "text/plain": [
       "[{'text': '@sarahwittman bussy netflix success', 'label': None},\n",
       " {'text': 'RT @notviking: therapy:\\n\\n- expensive\\n- might not work\\n\\nwatching hot rod (2007) on netflix:\\n\\n- free\\n- will always make you feel better since…',\n",
       "  'label': None},\n",
       " {'text': 'Netflix has bs scary movies.', 'label': None}]"
      ]
     },
     "execution_count": 6,
     "metadata": {},
     "output_type": "execute_result"
    }
   ],
   "source": [
    "# creating a tweets objecting and printing the first 4 tweets\n",
    "tweets = get_tweets()\n",
    "tweets[:3]\n",
    "\n",
    "\n",
    "# IMPORTANT!!!\n",
    "\n",
    "# The Twitter API have limitations on the total of tweets and how many requests can be made.\n",
    "# A recomendation is do not request more than 3000 tweets in an interval of 15 min to avoid long waiting\n",
    "# time."
   ]
  },
  {
   "cell_type": "code",
   "execution_count": 7,
   "metadata": {},
   "outputs": [
    {
     "data": {
      "text/plain": [
       "1179"
      ]
     },
     "execution_count": 7,
     "metadata": {},
     "output_type": "execute_result"
    }
   ],
   "source": [
    "# Checking the final lengh of the request we can see the total is not the 1000 tweets requested. The \n",
    "# reason for that is that the tweet api return duplicates and the above function do the job of removing\n",
    "# those.\n",
    "\n",
    "len(tweets)"
   ]
  },
  {
   "cell_type": "markdown",
   "metadata": {},
   "source": [
    "## Step 4 - Getting training data\n",
    "---\n",
    "\n",
    "We'll use the Niek Sander's tweets corpus woth ~5000 classified tweets labelled as positive, negative, neutral or irrelevant. Those tweets are related with tech companies like, Apple, Google, Twitter, Youtube, Microsoft and others. Said that, the model that will be created is recommended to a search term related with tech companies. The performance lower if the sentiment analysis is related with another kind of topic."
   ]
  },
  {
   "cell_type": "markdown",
   "metadata": {},
   "source": [
    "**Getting Nick Sander's tweets corpus!**\n",
    "\n",
    "* access the link https://github.com/zfz/twitter_corpus;\n",
    "* download the file;\n",
    "* we will use the **full-corpus.csv** file. This file already contain the tweets texts and it respective labels of *positive*, *negative*, *neutral* or *irrelevant*.\n",
    "\n",
    "\n",
    "After download the file it is recommend that you explore it using Pandas for a better comprehension "
   ]
  },
  {
   "cell_type": "code",
   "execution_count": 11,
   "metadata": {},
   "outputs": [
    {
     "data": {
      "text/html": [
       "<div>\n",
       "<style scoped>\n",
       "    .dataframe tbody tr th:only-of-type {\n",
       "        vertical-align: middle;\n",
       "    }\n",
       "\n",
       "    .dataframe tbody tr th {\n",
       "        vertical-align: top;\n",
       "    }\n",
       "\n",
       "    .dataframe thead th {\n",
       "        text-align: right;\n",
       "    }\n",
       "</style>\n",
       "<table border=\"1\" class=\"dataframe\">\n",
       "  <thead>\n",
       "    <tr style=\"text-align: right;\">\n",
       "      <th></th>\n",
       "      <th>Topic</th>\n",
       "      <th>Sentiment</th>\n",
       "      <th>TweetId</th>\n",
       "      <th>TweetDate</th>\n",
       "      <th>TweetText</th>\n",
       "    </tr>\n",
       "  </thead>\n",
       "  <tbody>\n",
       "    <tr>\n",
       "      <th>0</th>\n",
       "      <td>apple</td>\n",
       "      <td>positive</td>\n",
       "      <td>126415614616154112</td>\n",
       "      <td>Tue Oct 18 21:53:25 +0000 2011</td>\n",
       "      <td>Now all @Apple has to do is get swype on the i...</td>\n",
       "    </tr>\n",
       "    <tr>\n",
       "      <th>1</th>\n",
       "      <td>apple</td>\n",
       "      <td>positive</td>\n",
       "      <td>126404574230740992</td>\n",
       "      <td>Tue Oct 18 21:09:33 +0000 2011</td>\n",
       "      <td>@Apple will be adding more carrier support to ...</td>\n",
       "    </tr>\n",
       "    <tr>\n",
       "      <th>2</th>\n",
       "      <td>apple</td>\n",
       "      <td>positive</td>\n",
       "      <td>126402758403305474</td>\n",
       "      <td>Tue Oct 18 21:02:20 +0000 2011</td>\n",
       "      <td>Hilarious @youtube video - guy does a duet wit...</td>\n",
       "    </tr>\n",
       "    <tr>\n",
       "      <th>3</th>\n",
       "      <td>apple</td>\n",
       "      <td>positive</td>\n",
       "      <td>126397179614068736</td>\n",
       "      <td>Tue Oct 18 20:40:10 +0000 2011</td>\n",
       "      <td>@RIM you made it too easy for me to switch to ...</td>\n",
       "    </tr>\n",
       "    <tr>\n",
       "      <th>4</th>\n",
       "      <td>apple</td>\n",
       "      <td>positive</td>\n",
       "      <td>126395626979196928</td>\n",
       "      <td>Tue Oct 18 20:34:00 +0000 2011</td>\n",
       "      <td>I just realized that the reason I got into twi...</td>\n",
       "    </tr>\n",
       "  </tbody>\n",
       "</table>\n",
       "</div>"
      ],
      "text/plain": [
       "   Topic Sentiment             TweetId                       TweetDate  \\\n",
       "0  apple  positive  126415614616154112  Tue Oct 18 21:53:25 +0000 2011   \n",
       "1  apple  positive  126404574230740992  Tue Oct 18 21:09:33 +0000 2011   \n",
       "2  apple  positive  126402758403305474  Tue Oct 18 21:02:20 +0000 2011   \n",
       "3  apple  positive  126397179614068736  Tue Oct 18 20:40:10 +0000 2011   \n",
       "4  apple  positive  126395626979196928  Tue Oct 18 20:34:00 +0000 2011   \n",
       "\n",
       "                                           TweetText  \n",
       "0  Now all @Apple has to do is get swype on the i...  \n",
       "1  @Apple will be adding more carrier support to ...  \n",
       "2  Hilarious @youtube video - guy does a duet wit...  \n",
       "3  @RIM you made it too easy for me to switch to ...  \n",
       "4  I just realized that the reason I got into twi...  "
      ]
     },
     "execution_count": 11,
     "metadata": {},
     "output_type": "execute_result"
    }
   ],
   "source": [
    "# Function to read the nick_sanders_corpus csv file and return a list containing the text and the label\n",
    "# for each tweet\n",
    "\n",
    "# reading the nick_sanders_corpus\n",
    "df = pd.read_csv('full_corpus.csv')\n",
    "\n",
    "#function\n",
    "def trainingData():\n",
    "    trainingData = [{'text':row[4], 'label':row[1]} for index,row in df.iterrows()]\n",
    "    return trainingData\n",
    "\n",
    "# The function return a list of dict containing the key (tweets text) and the values (the labels)\n",
    "\n",
    "\n",
    "df.head()"
   ]
  },
  {
   "cell_type": "code",
   "execution_count": 12,
   "metadata": {},
   "outputs": [
    {
     "data": {
      "text/plain": [
       "[{'text': 'Now all @Apple has to do is get swype on the iphone and it will be crack. Iphone that is',\n",
       "  'label': 'positive'},\n",
       " {'text': '@Apple will be adding more carrier support to the iPhone 4S (just announced)',\n",
       "  'label': 'positive'},\n",
       " {'text': \"Hilarious @youtube video - guy does a duet with @apple 's Siri. Pretty much sums up the love affair! http://t.co/8ExbnQjY\",\n",
       "  'label': 'positive'}]"
      ]
     },
     "execution_count": 12,
     "metadata": {},
     "output_type": "execute_result"
    }
   ],
   "source": [
    "training_Data = trainingData()\n",
    "training_Data[:3]"
   ]
  },
  {
   "cell_type": "markdown",
   "metadata": {},
   "source": [
    "## Step 5 - Preprocessing tweets from test and training data\n",
    "---\n",
    "\n",
    "The preprocess step will use few python tools to work with strings as detailed bellow:\n",
    "\n",
    "        USING .LOWER() STRING FUNCTION\n",
    "        \n",
    "            1 - Convert to lower case\n",
    "        \n",
    "        USING REGULAR EXPRESSIONS\n",
    "            2 - Replace links with the string 'url'\n",
    "            3 - Replace @ ... with 'at_user'\n",
    "            4 - Replace #word with the word itself\n",
    "            5 - Remove emoticons using ASCII encode and decode\n",
    "        \n",
    "        USING NLTK\n",
    "            7 - Tokenize the tweet into words (a list of words)\n",
    "            8 - Remove stopwords (including url and user, RT and '...')"
   ]
  },
  {
   "cell_type": "code",
   "execution_count": 13,
   "metadata": {},
   "outputs": [],
   "source": [
    "# Creating a class to preprocess the test and training tweets\n",
    "\n",
    "class Preprocess:\n",
    "    def __init__(self):\n",
    "        \n",
    "        lst = ['AT_USER','URL','rt','...', \"'s\", \"n't\", \"``\", \"''\"]\n",
    "        self._stopwords = set(stopwords.words('english')+list(punctuation)+lst)\n",
    "        \n",
    "        \n",
    "    def processTweets(self, tweets):\n",
    "        #tweets is a list of dict with Keys, 'text' and 'label'\n",
    "        processedTweets = []\n",
    "        #this list will be a list of tuple. Each tuple is a tweet which is a list of words and its label\n",
    "        \n",
    "        for tweet in tweets:\n",
    "            processedTweets.append((self.cleanTweet(tweet['text']),tweet['label']))\n",
    "                                         #it will apply the cleanTweet function only to the tweets text\n",
    "        return processedTweets\n",
    "    \n",
    "    \n",
    "    def processTweets_words(self, tweets):\n",
    "        \n",
    "        processedTweets = []\n",
    "        #this list will be a list of each word in all tweets\n",
    "        \n",
    "        for tweet in tweets:\n",
    "            processedTweets.append(self.cleanTweet(tweet['text']))\n",
    "                                         #it will apply the cleanTweet function only to the tweets text\n",
    "        return processedTweets\n",
    "            \n",
    "        \n",
    "    def cleanTweet(self,tweet):\n",
    "        #1 - Convert to lower case\n",
    "        tweet = tweet.lower()\n",
    "                \n",
    "        #2 - Replace links with word 'URL'\n",
    "        tweet = re.sub('((www\\.[^\\s]+)|(https?://[^\\s]+))','URL',tweet)\n",
    "        \n",
    "        #3 - Replace @username with 'AT_USER'\n",
    "        tweet = re.sub('@[^\\s]+','AT_USER',tweet)\n",
    "        \n",
    "        #4 - Repalce #word (hashtag) with just the word, witouth the '#' simble\n",
    "        tweet=re.sub(r'#([^\\s]+)',r'\\1',tweet)\n",
    "        \n",
    "        #5 - Remove emoticons\n",
    "        tweet = tweet.encode('ascii', 'ignore').decode('ascii')\n",
    "        \n",
    "        #6 - Tokenizing the tweets\n",
    "        tweet = word_tokenize(tweet)\n",
    "        \n",
    "        #7 - Removing stopwords \n",
    "        return [word for word in tweet if word not in self._stopwords]        "
   ]
  },
  {
   "cell_type": "code",
   "execution_count": 19,
   "metadata": {},
   "outputs": [],
   "source": [
    "# Instantiating a Preprocess Class called 'tprocessor'\n",
    "tprocessor = Preprocess()\n",
    "\n",
    "# Creating an object that will contain the result of the TRAINING DATA after been preprocessed by the\n",
    "# 'tprocessor' class\n",
    "cleanedtrainingData = tprocessor.processTweets(training_Data)\n",
    "\n",
    "# Creating an object that will contain the result of the TEST DATA after been preprocessed by the\n",
    "# 'tprocessor' class\n",
    "cleanedtestData = tprocessor.processTweets(tweets)"
   ]
  },
  {
   "cell_type": "code",
   "execution_count": 20,
   "metadata": {},
   "outputs": [
    {
     "name": "stdout",
     "output_type": "stream",
     "text": [
      "[(['get', 'swype', 'iphone', 'crack', 'iphone'], 'positive'), (['adding', 'carrier', 'support', 'iphone', '4s', 'announced'], 'positive'), (['hilarious', 'video', 'guy', 'duet', 'siri', 'pretty', 'much', 'sums', 'love', 'affair'], 'positive'), (['made', 'easy', 'switch', 'iphone', 'see', 'ya'], 'positive'), (['realized', 'reason', 'got', 'twitter', 'ios5', 'thanks'], 'positive'), ([\"'m\", 'current', 'user', 'little', 'bit', 'disappointed', 'move'], 'positive'), (['16', 'strangest', 'things', 'siri', 'said', 'far', 'sooo', 'glad', 'gave', 'siri', 'sense', 'humor', 'via'], 'positive'), (['great', 'close', 'personal', 'event', 'tonight', 'regent', 'st', 'store'], 'positive'), (['companies', 'experience', 'best', 'customer', 'service', 'aside'], 'positive'), (['apply', 'job', 'hope', 'call', 'lol'], 'positive')]\n"
     ]
    }
   ],
   "source": [
    "print(cleanedtrainingData[:10])"
   ]
  },
  {
   "cell_type": "code",
   "execution_count": 21,
   "metadata": {},
   "outputs": [
    {
     "name": "stdout",
     "output_type": "stream",
     "text": [
      "[(['bussy', 'netflix', 'success'], None), (['therapy', 'expensive', 'might', 'work', 'watching', 'hot', 'rod', '2007', 'netflix', 'free', 'always', 'make', 'feel', 'better', 'since'], None), (['netflix', 'bs', 'scary', 'movies'], None), (['nooooo', 'daybreak', 'one', 'favorite', 'shows', 'year', 'mad', 'max', 'set', 'john', 'hughes', 'high', 'school', 'even', 'matth'], None), (['dont', 'watch', 'dont', 'fuck', 'cats', 'netflix', 'alone', '.i', 'repeat', 'dont', 'watch', 'fucking', 'bizarre', 'terrifying'], None), (['ok', 'im', 'dead', 'serious', 'us', 'planning', 'day', 'cancel', 'netflix', 'accounts', 'bc', 'wont', 'even', 'consider'], None), (['+as', 'christian', 'religion', 'nakakabastos', 'lang', 'nakakadisappoint', 'amp', 'even', 'funny', 'inopen', 'nila', 'yung', 'bible'], None), (['ryan', 'murphy', 'best', 'ever', 'thank', 'never', 'ageist'], None), (['since', 'tf', 'netflix', '16.95'], None), (['burlesque', 'netflix'], None)]\n"
     ]
    }
   ],
   "source": [
    "print(cleanedtestData[:10])"
   ]
  },
  {
   "cell_type": "markdown",
   "metadata": {},
   "source": [
    "### Step 5.1 - Word Frequence Visualizations\n",
    "\n",
    "* Word Frequence using a bar plot\n",
    "* Word Frequence using a Word Cloud"
   ]
  },
  {
   "cell_type": "code",
   "execution_count": 22,
   "metadata": {},
   "outputs": [
    {
     "data": {
      "text/plain": [
       "['bussy', 'netflix', 'success', 'therapy', 'expensive']"
      ]
     },
     "execution_count": 22,
     "metadata": {},
     "output_type": "execute_result"
    }
   ],
   "source": [
    "# the result of the 'processTweets_words' is a list fo lists, so it will be necessary unify all words in\n",
    "# only one list\n",
    "words = tprocessor.processTweets_words(tweets)\n",
    "\n",
    "unif_words =[]\n",
    "for i in words:\n",
    "    for j in i:\n",
    "        unif_words.append(j)\n",
    "        \n",
    "unif_words[:5]"
   ]
  },
  {
   "cell_type": "code",
   "execution_count": 23,
   "metadata": {},
   "outputs": [],
   "source": [
    "# word frequence using 'Counter' class from the 'collection' package\n",
    "\n",
    "from collections import Counter\n",
    "\n",
    "word_counter = Counter(unif_words)"
   ]
  },
  {
   "cell_type": "code",
   "execution_count": 24,
   "metadata": {},
   "outputs": [],
   "source": [
    "most_common_words = word_counter.most_common()[:15]"
   ]
  },
  {
   "cell_type": "code",
   "execution_count": 25,
   "metadata": {},
   "outputs": [
    {
     "name": "stdout",
     "output_type": "stream",
     "text": [
      "[('netflix', 853), ('watch', 102), ('dont', 87), ('cats', 81), ('jesus', 79), ('show', 79), ('watching', 77), ('like', 63), ('trailer', 61), ('im', 56), ('season', 55), ('anne', 50), ('good', 49), ('movie', 48), ('series', 47)]\n"
     ]
    }
   ],
   "source": [
    "print(most_common_words)"
   ]
  },
  {
   "cell_type": "code",
   "execution_count": 26,
   "metadata": {},
   "outputs": [
    {
     "data": {
      "image/png": "[encoded data removed]",
      "text/plain": [
       "<Figure size 432x288 with 1 Axes>"
      ]
     },
     "metadata": {
      "needs_background": "light"
     },
     "output_type": "display_data"
    }
   ],
   "source": [
    "# Word distribution present a large vocabulary\n",
    "sorted_word_counts = sorted(list(word_counter.values()), reverse=True)\n",
    "\n",
    "plt.loglog(sorted_word_counts)\n",
    "plt.ylabel(\"Freq\")\n",
    "plt.xlabel(\"Word Rank\")\n",
    "plt.title('Word Frequence - Log x Log')\n",
    "plt.grid()\n",
    "plt.show()"
   ]
  },
  {
   "cell_type": "code",
   "execution_count": 27,
   "metadata": {},
   "outputs": [
    {
     "data": {
      "image/png": "[encoded data removed]",
      "text/plain": [
       "<Figure size 432x288 with 1 Axes>"
      ]
     },
     "metadata": {
      "needs_background": "light"
     },
     "output_type": "display_data"
    }
   ],
   "source": [
    "# Word distribution that allowed detect the count of words in a specific range\n",
    "\n",
    "plt.hist(sorted_word_counts, bins=50, log=True);\n",
    "plt.ylabel(\"Freq\")\n",
    "plt.xlabel(\"Word Rank\")\n",
    "plt.title('Word Frequence - semilog')\n",
    "plt.grid()\n",
    "plt.show()"
   ]
  },
  {
   "cell_type": "code",
   "execution_count": 28,
   "metadata": {},
   "outputs": [
    {
     "data": {
      "text/html": [
       "<div>\n",
       "<style scoped>\n",
       "    .dataframe tbody tr th:only-of-type {\n",
       "        vertical-align: middle;\n",
       "    }\n",
       "\n",
       "    .dataframe tbody tr th {\n",
       "        vertical-align: top;\n",
       "    }\n",
       "\n",
       "    .dataframe thead th {\n",
       "        text-align: right;\n",
       "    }\n",
       "</style>\n",
       "<table border=\"1\" class=\"dataframe\">\n",
       "  <thead>\n",
       "    <tr style=\"text-align: right;\">\n",
       "      <th></th>\n",
       "      <th>word</th>\n",
       "      <th>freq</th>\n",
       "    </tr>\n",
       "  </thead>\n",
       "  <tbody>\n",
       "    <tr>\n",
       "      <th>0</th>\n",
       "      <td>netflix</td>\n",
       "      <td>853</td>\n",
       "    </tr>\n",
       "    <tr>\n",
       "      <th>1</th>\n",
       "      <td>watch</td>\n",
       "      <td>102</td>\n",
       "    </tr>\n",
       "    <tr>\n",
       "      <th>2</th>\n",
       "      <td>dont</td>\n",
       "      <td>87</td>\n",
       "    </tr>\n",
       "    <tr>\n",
       "      <th>3</th>\n",
       "      <td>cats</td>\n",
       "      <td>81</td>\n",
       "    </tr>\n",
       "    <tr>\n",
       "      <th>4</th>\n",
       "      <td>jesus</td>\n",
       "      <td>79</td>\n",
       "    </tr>\n",
       "    <tr>\n",
       "      <th>5</th>\n",
       "      <td>show</td>\n",
       "      <td>79</td>\n",
       "    </tr>\n",
       "    <tr>\n",
       "      <th>6</th>\n",
       "      <td>watching</td>\n",
       "      <td>77</td>\n",
       "    </tr>\n",
       "    <tr>\n",
       "      <th>7</th>\n",
       "      <td>like</td>\n",
       "      <td>63</td>\n",
       "    </tr>\n",
       "    <tr>\n",
       "      <th>8</th>\n",
       "      <td>trailer</td>\n",
       "      <td>61</td>\n",
       "    </tr>\n",
       "    <tr>\n",
       "      <th>9</th>\n",
       "      <td>im</td>\n",
       "      <td>56</td>\n",
       "    </tr>\n",
       "    <tr>\n",
       "      <th>10</th>\n",
       "      <td>season</td>\n",
       "      <td>55</td>\n",
       "    </tr>\n",
       "    <tr>\n",
       "      <th>11</th>\n",
       "      <td>anne</td>\n",
       "      <td>50</td>\n",
       "    </tr>\n",
       "    <tr>\n",
       "      <th>12</th>\n",
       "      <td>good</td>\n",
       "      <td>49</td>\n",
       "    </tr>\n",
       "    <tr>\n",
       "      <th>13</th>\n",
       "      <td>movie</td>\n",
       "      <td>48</td>\n",
       "    </tr>\n",
       "    <tr>\n",
       "      <th>14</th>\n",
       "      <td>series</td>\n",
       "      <td>47</td>\n",
       "    </tr>\n",
       "  </tbody>\n",
       "</table>\n",
       "</div>"
      ],
      "text/plain": [
       "        word  freq\n",
       "0    netflix   853\n",
       "1      watch   102\n",
       "2       dont    87\n",
       "3       cats    81\n",
       "4      jesus    79\n",
       "5       show    79\n",
       "6   watching    77\n",
       "7       like    63\n",
       "8    trailer    61\n",
       "9         im    56\n",
       "10    season    55\n",
       "11      anne    50\n",
       "12      good    49\n",
       "13     movie    48\n",
       "14    series    47"
      ]
     },
     "execution_count": 28,
     "metadata": {},
     "output_type": "execute_result"
    }
   ],
   "source": [
    "# Converting the dictionary to a pandas DataFrame\n",
    "df = pd.DataFrame(most_common_words, columns=['word','freq'])\n",
    "\n",
    "# sorting the words based on their frequence\n",
    "df = df.sort_values(by=['freq'], ascending=False)\n",
    "\n",
    "# getting the top 20 more frequent words\n",
    "top_20 = df.head(20)\n",
    "top_20"
   ]
  },
  {
   "cell_type": "code",
   "execution_count": 29,
   "metadata": {},
   "outputs": [
    {
     "data": {
      "image/png": "[encoded data removed]",
      "text/plain": [
       "<Figure size 432x288 with 1 Axes>"
      ]
     },
     "metadata": {
      "needs_background": "light"
     },
     "output_type": "display_data"
    }
   ],
   "source": [
    "# Bar ploting from the top 20 more frequent words\n",
    "\n",
    "axes = top_20.plot.bar(x='word',y='freq',legend=False)\n",
    "plt.gcf().tight_layout()\n",
    "plt.ylabel('Freq')\n",
    "plt.grid()\n",
    "plt.title('Word Frequence')\n",
    "plt.show()"
   ]
  },
  {
   "cell_type": "code",
   "execution_count": 30,
   "metadata": {},
   "outputs": [],
   "source": [
    "dic = {}\n",
    "for item in unif_words:\n",
    "    dic[item] = dic.get(item, 0) + 1"
   ]
  },
  {
   "cell_type": "code",
   "execution_count": 31,
   "metadata": {},
   "outputs": [],
   "source": [
    "# Bulding a World Cloud\n",
    "\n",
    "\n",
    "\n",
    "wordcloud = WordCloud(width=1600,   height=900,\n",
    "                      prefer_horizontal=0.5,\n",
    "                      min_font_size=10,\n",
    "                      colormap='prism')\n",
    "\n",
    "wordcloud = wordcloud.fit_words(dic)\n",
    "\n",
    "wordcloud = wordcloud.to_file('TrendingTwitter.png')\n",
    "\n",
    "\n",
    "#IMPORTANT!!!\n",
    "\n",
    "#The result will create a png file in the fouder where the jupyter notebook are running. In order to see the\n",
    "#result you will need to go check this file"
   ]
  },
  {
   "cell_type": "code",
   "execution_count": 16,
   "metadata": {
    "scrolled": false
   },
   "outputs": [
    {
     "data": {
      "text/html": [
       "<img src=\"TrendingTwitter.png\" width=\"900\" class=\"unconfined\"/>"
      ],
      "text/plain": [
       "<IPython.core.display.Image object>"
      ]
     },
     "execution_count": 16,
     "metadata": {},
     "output_type": "execute_result"
    }
   ],
   "source": [
    "Image(url = 'TrendingTwitter.png',width=900, unconfined=True)"
   ]
  },
  {
   "cell_type": "markdown",
   "metadata": {},
   "source": [
    "## Step 6 - Using NLTK to extract features and train the Classifier Model\n",
    "---"
   ]
  },
  {
   "cell_type": "markdown",
   "metadata": {},
   "source": [
    "**Extract features from both the test data (the 100 tweets to be classifed) and the training data, downloaded from the corpus**\n",
    "    \n",
    "The NLTK model that will be used is known as NAVIE BAYES CLASSIFICATION\n",
    "\n",
    "       1.1 - Build a vocabulary (list of all unique words in all the tweets in the training data);\n",
    "\n",
    "       2.2 - Represent each tweet with the presence or absence of theses words;\n",
    "             Ex.: Given a *vocabulary: {'the','worst','thing,'in','the','world'} and a *tweet: {'the','worst','thing'}        \n",
    "                                    \n",
    "                  This tweet will be represented as a \"Feature Vector\" (1,1,1,0,0,0) -> indicatinting that the \n",
    "                  first three words from the vocabulary are in the tweet, and there is other 3 words in the \n",
    "                  vocabulary that is not part of the mentioned tweet.\n",
    "\n",
    "       2.3 - Use NLTK's built in Navie Bayes Classifier to train a Classifier                                 "
   ]
  },
  {
   "cell_type": "code",
   "execution_count": 32,
   "metadata": {},
   "outputs": [],
   "source": [
    "#Defining the function to create a word Vocabulary or bag_of_words\n",
    "\n",
    "def wordVocab(cleanedtrainingData):\n",
    "    training_features = []\n",
    "    for (words, sentiment) in cleanedtrainingData:\n",
    "        training_features.extend(words)\n",
    "    return list(set(training_features))"
   ]
  },
  {
   "cell_type": "code",
   "execution_count": 33,
   "metadata": {},
   "outputs": [],
   "source": [
    "#Creating the word_features_vocab object\n",
    "\n",
    "word_features_vocab = wordVocab(cleanedtrainingData)"
   ]
  },
  {
   "cell_type": "code",
   "execution_count": 34,
   "metadata": {},
   "outputs": [],
   "source": [
    "# The NLTK library have a function called apply_features that takes a user-defined function to extract\n",
    "# featrues from training data. In this case the function will be called extract_features_func that will\n",
    "# take each tweet in the in the training data and repersent it with the presence or absence of a word in\n",
    "# the vocabulary, as previously explaned in the item 2.2 above.\n",
    "\n",
    "def extract_features_func(tweet):\n",
    "    tweet_words = set(tweet)\n",
    "    features = {}\n",
    "    for word in word_features_vocab:\n",
    "        features[f'contains {word}'] = (word in tweet_words)\n",
    "        # this step will creat a dictionary with keys like 'contains word1' and 'contains word2', and values\n",
    "        # as True or False. The statement that create the True or False return is the '(word in tweet_words)'\n",
    "        \n",
    "    return features"
   ]
  },
  {
   "cell_type": "code",
   "execution_count": 35,
   "metadata": {},
   "outputs": [],
   "source": [
    "# Creating the traning_features object\n",
    "\n",
    "# apply_features will take the extract_features_func defined above, and apply it to each element of\n",
    "# cleanedtrainingData. it automatically recognize that each of these elements are tuples where the\n",
    "# first element is the text and the second is the label. The apply_features apply the extract_features_func\n",
    "# only on the text element.\n",
    "\n",
    "trainingFeature = nltk.classify.apply_features(extract_features_func,cleanedtrainingData)\n",
    "\n"
   ]
  },
  {
   "cell_type": "code",
   "execution_count": 36,
   "metadata": {},
   "outputs": [],
   "source": [
    "# Creating the classifier objected, trained using the training data features \n",
    "\n",
    "NBclassifier = nltk.NaiveBayesClassifier.train(trainingFeature)"
   ]
  },
  {
   "cell_type": "markdown",
   "metadata": {},
   "source": [
    "## Step 7 - Run the Classifier on the 2000 downloaded tweets\n",
    "---"
   ]
  },
  {
   "cell_type": "code",
   "execution_count": 37,
   "metadata": {},
   "outputs": [],
   "source": [
    "sentiment_classifier = [NBclassifier.classify(extract_features_func(tweet[0])) for tweet in cleanedtestData]"
   ]
  },
  {
   "cell_type": "code",
   "execution_count": 38,
   "metadata": {},
   "outputs": [
    {
     "name": "stdout",
     "output_type": "stream",
     "text": [
      "-=-=-=-=-=-=-=-=-=-=-=-=-=-=-=-=-=-=-=-=-=-=-=-=-=-=-=-=-=-=-=-=-=-=-=-=-=-=-=-=\n",
      "                 SENTIMENT RESULTS USING NAIVE BAYES CLASSIFIER                 \n",
      "-=-=-=-=-=-=-=-=-=-=-=-=-=-=-=-=-=-=-=-=-=-=-=-=-=-=-=-=-=-=-=-=-=-=-=-=-=-=-=-=\n",
      "\n",
      "Positive Sentiment = 0.17%\n",
      "Negative Sentiment = 1.53%\n",
      "Neutral Sentiment = 96.52%\n",
      "Irrelevant Sentiment = 1.78%\n",
      "\n",
      "-=-=-=-=-=-=-=-=-=-=-=-=-=-=-=-=-=-=-=-=-=-=-=-=-=-=-=-=-=-=-=-=-=-=-=-=-=-=-=-=\n",
      "                                First 10 tweets                                 \n",
      "-=-=-=-=-=-=-=-=-=-=-=-=-=-=-=-=-=-=-=-=-=-=-=-=-=-=-=-=-=-=-=-=-=-=-=-=-=-=-=-=\n",
      "\n"
     ]
    },
    {
     "data": {
      "text/plain": [
       "[{'text': '@sarahwittman bussy netflix success', 'label': None},\n",
       " {'text': 'RT @notviking: therapy:\\n\\n- expensive\\n- might not work\\n\\nwatching hot rod (2007) on netflix:\\n\\n- free\\n- will always make you feel better since…',\n",
       "  'label': None},\n",
       " {'text': 'Netflix has bs scary movies.', 'label': None},\n",
       " {'text': \"RT @adamfgoldberg: NOOOOO! Daybreak is one of my favorite shows this year. It's Mad Max set in a John Hughes high school and even has Matth…\",\n",
       "  'label': None},\n",
       " {'text': 'Don’t watch don’t fuck with cats  on Netflix alone....I REPEAT DONT WATCH IT...IT IS FUCKING BIZARRE AND TERRIFYING',\n",
       "  'label': None},\n",
       " {'text': 'RT @lettersforanne: ok so im dead serious about us planning a day where we all just cancel our netflix accounts bc they wont even consider…',\n",
       "  'label': None},\n",
       " {'text': \"RT @hebiancao__: +as a Christian, or from any religion nakakabastos lang and nakakadisappoint &amp; it's not even funny. Inopen nila yung bible…\",\n",
       "  'label': None},\n",
       " {'text': '@MiraSorvino @Rubytea53 @DEADLINE @netflix Ryan Murphy is just the best ever. Thank you for never being #ageist ,… https://t.co/FcyF8vZGpm',\n",
       "  'label': None},\n",
       " {'text': 'Since when tf is Netflix $16.95 ?', 'label': None},\n",
       " {'text': 'Burlesque is on Netflix. 😁', 'label': None}]"
      ]
     },
     "execution_count": 38,
     "metadata": {},
     "output_type": "execute_result"
    }
   ],
   "source": [
    "print('-='*40)\n",
    "print('{:^80}'.format('SENTIMENT RESULTS USING NAIVE BAYES CLASSIFIER'))\n",
    "print('-='*40)\n",
    "print('')\n",
    "\n",
    "\n",
    "if sentiment_classifier.count('positive'):\n",
    "    print('Positive Sentiment = {:.2f}'.format(100*sentiment_classifier.count('positive')/len(sentiment_classifier))+\"%\")\n",
    "          \n",
    "if sentiment_classifier.count('negative'):\n",
    "    print('Negative Sentiment = {:.2f}'.format(100*sentiment_classifier.count('negative')/len(sentiment_classifier))+\"%\")\n",
    "    \n",
    "if sentiment_classifier.count('neutral'):\n",
    "    print('Neutral Sentiment = {:.2f}'.format(100*sentiment_classifier.count('neutral')/len(sentiment_classifier))+\"%\")\n",
    "    \n",
    "if sentiment_classifier.count('irrelevant') or sentiment_classifier.count('irrelevant') == 0:\n",
    "    print('Irrelevant Sentiment = {:.2f}'.format(100*sentiment_classifier.count('irrelevant')/len(sentiment_classifier))+\"%\")\n",
    "    \n",
    "\n",
    "print('')\n",
    "print('-='*40)\n",
    "print('{:^80}'.format('First 10 tweets'))\n",
    "print('-='*40)\n",
    "print('')\n",
    "\n",
    "tweets[0:10]\n"
   ]
  },
  {
   "cell_type": "markdown",
   "metadata": {},
   "source": [
    "# A simplified approach using TextBlob library\n",
    "---"
   ]
  },
  {
   "cell_type": "markdown",
   "metadata": {},
   "source": [
    "The object of this section is to present a simple and very interest tool that I could discover on my journey to complete this project. I will also perform the same kind of sentiment analysis in a much more simplefied version using a powerful library called TextBlob.\n",
    "\n",
    "TextBlob is an object-oriented NLP text-processing library that is built on the NLTK and pattern NLP libraries and simplifies many of their capabilities.\n",
    "\n",
    "*During my exploration to perform this work I had the chance to learn about this library and I strongly recomend that you dedicate a time to read and understand better the main tasks that TextBlob can perform.*"
   ]
  },
  {
   "cell_type": "code",
   "execution_count": 39,
   "metadata": {},
   "outputs": [],
   "source": [
    "# Libraries\n",
    "\n",
    "import pickle\n",
    "import os\n",
    "import tweepy\n",
    "from textblob import TextBlob"
   ]
  },
  {
   "cell_type": "code",
   "execution_count": 40,
   "metadata": {},
   "outputs": [],
   "source": [
    "#Saving/loading the credations to access the tweet API\n",
    "\n",
    "# This structure will save your credentials at the first time you exetute it, after that, erase your\n",
    "# credentials to avoind anyone else to use that\n",
    "if not os.path.exists('secret_twitter_credentials.pkl'):\n",
    "    Twitter={}\n",
    "    Twitter['Consumer Key'] = 'your_cosumer_key_here'\n",
    "    Twitter['Consumer Secret'] = 'your_cosumer_secret_here'\n",
    "    Twitter['Access Token'] = 'your_access_token_here'\n",
    "    Twitter['Access Token Secret'] = 'your_access_token_secret_here'\n",
    "    with open('secret_twitter_credentials.pkl','wb') as f:\n",
    "        pickle.dump(Twitter, f)\n",
    "else:\n",
    "    Twitter=pickle.load(open('secret_twitter_credentials.pkl','rb'))\n",
    "    \n",
    "    \n",
    "# Authenticating and creating an API object\n",
    "\n",
    "auth = tweepy.OAuthHandler(Twitter['Consumer Key'], Twitter['Consumer Secret'])\n",
    "auth.set_access_token(Twitter['Access Token'], Twitter['Access Token Secret'])\n",
    "api = tweepy.API(auth, wait_on_rate_limit=True,wait_on_rate_limit_notify=True)"
   ]
  },
  {
   "cell_type": "code",
   "execution_count": 41,
   "metadata": {},
   "outputs": [],
   "source": [
    "# Function that will access the Tweet and get tweets based on a search term, number of tweets, inicial \n",
    "# date and final date. This function will return a list of dictionaries where the key is the tweet text\n",
    "# and the values is a label, in this casa we are considering 'None' in the labor. This format is necessary\n",
    "# for futures aplication\n",
    "\n",
    "\n",
    "def get_tweets2(word='google',number=5, since='2019-11-01', until='2019-11-28'):\n",
    "\n",
    "    search_term = str(input('Hi! What are you looking for today? - '))\n",
    "    num_of_terms = int(input('How many tweets do you want? - '))\n",
    "    since = input('From which date? ex.: 2019-11-01 - ')\n",
    "    until = input('Until which date? ex.: 2019-11-28 - ')\n",
    "\n",
    "    tweets = tweepy.Cursor(api.search,\n",
    "                                #since = f'{since},\n",
    "                                #until = f'{until},\n",
    "                                q=search_term,\n",
    "                                lang='en').items(num_of_terms)                                \n",
    "                                \n",
    "    \n",
    "    positive = 0\n",
    "    negative = 0\n",
    "    neutral = 0\n",
    "\n",
    "    for tweet in tweets:\n",
    "        try:\n",
    "            analysis = TextBlob(tweet.extended_tweet.full_text)\n",
    "        except:\n",
    "            analysis = TextBlob(tweet.text)\n",
    "            \n",
    "            if analysis.sentiment[0] > 0.00:\n",
    "                positive += 1\n",
    "            elif analysis.sentiment[0] < 0.00:\n",
    "                negative += 1\n",
    "            else:\n",
    "                neutral += 1\n",
    "                \n",
    "    print()\n",
    "    print('-=' * 3, 'TOTALS', '-=' * 3)\n",
    "    print('Total Positives:', positive)\n",
    "    print()\n",
    "    print('Total Negatives:', negative)\n",
    "    print()\n",
    "    print('Total Neutrals:', neutral)\n",
    "    print()\n",
    "    print()\n",
    "    print('-=' * 3, 'PERCENTAGE', '-=' * 3)\n",
    "    print(int((positive / num_of_terms) * 100), '% Positives')\n",
    "    print()\n",
    "    print(int((negative / num_of_terms) * 100), '% Negatives')\n",
    "    print()\n",
    "    print(int((neutral / num_of_terms) * 100), '% Neutrals')\n",
    "    print()\n",
    "    \n",
    "    return positive, negative, neutral"
   ]
  },
  {
   "cell_type": "code",
   "execution_count": 42,
   "metadata": {},
   "outputs": [
    {
     "name": "stdout",
     "output_type": "stream",
     "text": [
      "Hi! What are you looking for today? - Netflix\n",
      "How many tweets do you want? - 200\n",
      "From which date? ex.: 2019-11-01 - 2019-12-18\n",
      "Until which date? ex.: 2019-11-28 - 2019-12-18\n",
      "\n",
      "-=-=-= TOTALS -=-=-=\n",
      "Total Positives: 96\n",
      "\n",
      "Total Negatives: 17\n",
      "\n",
      "Total Neutrals: 87\n",
      "\n",
      "\n",
      "-=-=-= PERCENTAGE -=-=-=\n",
      "48 % Positives\n",
      "\n",
      "8 % Negatives\n",
      "\n",
      "43 % Neutrals\n",
      "\n"
     ]
    }
   ],
   "source": [
    "tweets2 = get_tweets2()"
   ]
  },
  {
   "cell_type": "markdown",
   "metadata": {},
   "source": [
    "### Adjusting the TextBlob to perform the sentiment analysis using a Navie Bayes Analyser\n",
    "\n",
    "By default, a TextBlob and the Sentences and Words you get from it determine sentiment using a PatternAnalyzer, which uses the same sentiment analysis techniques as in the Pattern library. The TextBlob library also comes with a NaiveBayesAnalyzer9 (module text-blob.sentiments), **which was trained on a database of movie reviews**.\n",
    "\n",
    "Considering that we can not re-train the algorithm in the TextBlob, it is important to understand that the performance compromised since the train data was not related with the topic of the search term that will be considered on this analysis, a term realated to a tech company for the sentiment analysis"
   ]
  },
  {
   "cell_type": "code",
   "execution_count": 43,
   "metadata": {},
   "outputs": [],
   "source": [
    "from textblob.sentiments import NaiveBayesAnalyzer\n",
    "\n",
    "\n",
    "# Recommendation!!!\n",
    "\n",
    "# The sentiment analysis using TextBlob NaiveBayesAnalyzer presented a low performance in terms of speed,\n",
    "# basically it takes long time to process the analysis. Request a max of 20 tweets in order to be able to\n",
    "# quickly have a return and evaluate the result. If you have more time and a powerful machine you maybe want\n",
    "# to try a larger tweet request."
   ]
  },
  {
   "cell_type": "code",
   "execution_count": 44,
   "metadata": {},
   "outputs": [],
   "source": [
    "def get_tweets3(word='google',number=5, since='2019-11-01', until='2019-11-28'):\n",
    "\n",
    "    search_term = str(input('Hi! What are you looking for today? - '))\n",
    "    num_of_terms = int(input('How many tweets do you want? - '))\n",
    "    since = input('From which date? ex.: 2019-11-01 - ')\n",
    "    until = input('Until which date? ex.: 2019-11-28 - ')\n",
    "\n",
    "    tweets = tweepy.Cursor(api.search,\n",
    "                                #since = f'{since},\n",
    "                                #until = f'{until},\n",
    "                                q=search_term,\n",
    "                                lang='en').items(num_of_terms)                                \n",
    "                                \n",
    "    \n",
    "    positive = 0\n",
    "    negative = 0\n",
    "\n",
    "    for tweet in tweets:\n",
    "        \n",
    "        blob = TextBlob(tweet.text, analyzer=NaiveBayesAnalyzer())\n",
    "\n",
    "        if blob.sentiment.p_pos > blob.sentiment.p_neg:\n",
    "            positive += 1\n",
    "        else:\n",
    "            blob.sentiment.p_pos < blob.sentiment.p_neg\n",
    "            negative += 1\n",
    "\n",
    "                \n",
    "    print()\n",
    "    print('-=' * 3, 'TOTALS', '-=' * 3)\n",
    "    print('Total Positives:', positive)\n",
    "    print()\n",
    "    print('Total Negatives:', negative)\n",
    "    print()\n",
    "    print()\n",
    "    print('-=' * 3, 'PERCENTAGE', '-=' * 3)\n",
    "    print(int((positive / num_of_terms) * 100), '% Positives')\n",
    "    print()\n",
    "    print(int((negative / num_of_terms) * 100), '% Negatives')\n",
    "    print()\n",
    "    \n",
    "    return positive, negative"
   ]
  },
  {
   "cell_type": "code",
   "execution_count": 47,
   "metadata": {},
   "outputs": [
    {
     "name": "stdout",
     "output_type": "stream",
     "text": [
      "Hi! What are you looking for today? - Netflix\n",
      "How many tweets do you want? - 20\n",
      "From which date? ex.: 2019-11-01 - 2019-12-19\n",
      "Until which date? ex.: 2019-11-28 - 2019-12-19\n",
      "\n",
      "-=-=-= TOTALS -=-=-=\n",
      "Total Positives: 14\n",
      "\n",
      "Total Negatives: 6\n",
      "\n",
      "\n",
      "-=-=-= PERCENTAGE -=-=-=\n",
      "70 % Positives\n",
      "\n",
      "30 % Negatives\n",
      "\n"
     ]
    }
   ],
   "source": [
    "tweets3 = get_tweets3()"
   ]
  }
 ],
 "metadata": {
  "kernelspec": {
   "display_name": "Python 3",
   "language": "python",
   "name": "python3"
  },
  "language_info": {
   "codemirror_mode": {
    "name": "ipython",
    "version": 3
   },
   "file_extension": ".py",
   "mimetype": "text/x-python",
   "name": "python",
   "nbconvert_exporter": "python",
   "pygments_lexer": "ipython3",
   "version": "3.7.3"
  }
 },
 "nbformat": 4,
 "nbformat_minor": 2
}
